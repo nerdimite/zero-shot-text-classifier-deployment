{
 "cells": [
  {
   "cell_type": "markdown",
   "id": "27641766-bf34-4ee4-a6c4-1e2307d647a0",
   "metadata": {
    "tags": []
   },
   "source": [
    "<center>\n",
    "    <img src=\"https://cellstrat2.s3.amazonaws.com/PlatformAssets/bluewhitelogo.svg\" alt=\"logo\" width=\"200\"/>\n",
    "    <h1>⚡CellStrat Hub API</h1>\n",
    "    <h2>🧰MLOps Hands-On Workshop🔧</h2>\n",
    "    <h3>🚀Deploying a Zero-Shot Text Classifier Model📜</h3>\n",
    "</center>"
   ]
  },
  {
   "cell_type": "markdown",
   "id": "c083bbf4-c7f9-4463-9292-f2e3e85cd952",
   "metadata": {},
   "source": [
    "# Building the Model"
   ]
  },
  {
   "cell_type": "code",
   "execution_count": 1,
   "id": "d26d78ea-84a3-482b-bbb8-8ace60ed6bfc",
   "metadata": {},
   "outputs": [],
   "source": [
    "import torch\n",
    "from transformers import AutoModelForSequenceClassification, AutoTokenizer"
   ]
  },
  {
   "cell_type": "markdown",
   "id": "4802858d-a7f9-4bb4-9a1c-ec51fb54e10a",
   "metadata": {},
   "source": [
    "### Load Pretrained Model"
   ]
  },
  {
   "cell_type": "code",
   "execution_count": 3,
   "id": "44bcde4f-59a3-463a-9d01-649f79a5786e",
   "metadata": {},
   "outputs": [],
   "source": [
    "# Load pretrained model from the internet (by default it cache's it locally)\n",
    "tokenizer = AutoTokenizer.from_pretrained('valhalla/distilbart-mnli-12-3')\n",
    "model = AutoModelForSequenceClassification.from_pretrained('valhalla/distilbart-mnli-12-3')"
   ]
  },
  {
   "cell_type": "markdown",
   "id": "6c80433d-251d-461e-8d84-446f612af8e8",
   "metadata": {},
   "source": [
    "### Preprocess Inputs"
   ]
  },
  {
   "cell_type": "code",
   "execution_count": 5,
   "id": "f01857ff-19c3-4b7d-b480-caf0db9755f8",
   "metadata": {},
   "outputs": [],
   "source": [
    "text = \"\"\"Last week I upgraded my iOS version and ever since then my phone has been overheating \n",
    "whenever I use your app.\n",
    "\"\"\""
   ]
  },
  {
   "cell_type": "code",
   "execution_count": 6,
   "id": "bab10a40-5239-4727-8849-56b5fabad4d0",
   "metadata": {},
   "outputs": [],
   "source": [
    "classes = ['mobile', 'website', 'billing', 'account access']"
   ]
  },
  {
   "cell_type": "code",
   "execution_count": 8,
   "id": "78ad6643-fd97-4b7a-8c18-c85e190f3b3a",
   "metadata": {},
   "outputs": [],
   "source": [
    "def preprocess(text, classes, hypothesis_template=\"This text is about {}\"):\n",
    "    '''Preprocesses a single input text to align with each class'''\n",
    "    # create the hypotheses for each class\n",
    "    hypotheses = [hypothesis_template.format(c) for c in classes]\n",
    "    \n",
    "    # preprocess the inputs\n",
    "    inputs = tokenizer(\n",
    "        [text] * len(classes), \n",
    "        hypotheses, \n",
    "        return_tensors='pt',\n",
    "        truncation='only_first',\n",
    "        padding=True\n",
    "    )['input_ids']\n",
    "    \n",
    "    return inputs"
   ]
  },
  {
   "cell_type": "code",
   "execution_count": 9,
   "id": "7594b651-5d1e-4687-af02-d8caf7a9bd0c",
   "metadata": {},
   "outputs": [],
   "source": [
    "inputs = preprocess(text, classes, hypothesis_template)"
   ]
  },
  {
   "cell_type": "markdown",
   "id": "5ee07ff1-1ba5-47c8-bafe-e999ae744449",
   "metadata": {},
   "source": [
    "### Make Predictions"
   ]
  },
  {
   "cell_type": "code",
   "execution_count": 14,
   "id": "144e95b4-71b7-49f2-b226-6e149f0fd474",
   "metadata": {},
   "outputs": [
    {
     "data": {
      "text/plain": [
       "tensor([[-0.8225,  1.8000, -0.6673],\n",
       "        [ 0.5615,  2.5067, -2.6900],\n",
       "        [ 1.1835,  2.4916, -3.3967],\n",
       "        [-0.1443,  2.9384, -2.6310]])"
      ]
     },
     "execution_count": 14,
     "metadata": {},
     "output_type": "execute_result"
    }
   ],
   "source": [
    "with torch.inference_mode():\n",
    "    logits = model(inputs).logits\n",
    "logits"
   ]
  },
  {
   "cell_type": "code",
   "execution_count": 20,
   "id": "bd629487-d313-4f77-8bdd-e7f117ec636f",
   "metadata": {},
   "outputs": [],
   "source": [
    "def post_process(logits, classes):\n",
    "    '''Post-processes the model output to get the entailment logits and get the class prediction'''\n",
    "    # get the index of entailment\n",
    "    idx = model.config.label2id['entailment']\n",
    "    # apply softmax over the entailment logits\n",
    "    probabilities = torch.softmax(logits[:, idx], dim=0).tolist()\n",
    "    \n",
    "    output = []\n",
    "    for i, prob in enumerate(probabilities):\n",
    "        output.append(\n",
    "            (classes[i], round(prob, 4))\n",
    "        )\n",
    "    \n",
    "    return output"
   ]
  },
  {
   "cell_type": "code",
   "execution_count": 21,
   "id": "6bb619c5-d845-4b10-a1ee-14fdae07afbb",
   "metadata": {},
   "outputs": [
    {
     "data": {
      "text/plain": [
       "[('mobile', 0.7474),\n",
       " ('website', 0.0989),\n",
       " ('billing', 0.0488),\n",
       " ('account access', 0.1049)]"
      ]
     },
     "execution_count": 21,
     "metadata": {},
     "output_type": "execute_result"
    }
   ],
   "source": [
    "post_process(logits, classes)"
   ]
  },
  {
   "cell_type": "markdown",
   "id": "5b9fe12a-6472-4ac1-ba0a-52a76c5241c9",
   "metadata": {},
   "source": [
    "### Save Model and Tokenizer for Offline Inference\n",
    "\n",
    "Save a local copy of the model for deployment"
   ]
  },
  {
   "cell_type": "code",
   "execution_count": null,
   "id": "df9f672a-ff95-4db3-afae-8e668a96fb01",
   "metadata": {},
   "outputs": [],
   "source": [
    "model.save_pretrained('model_files')\n",
    "tokenizer.save_pretrained('model_files')"
   ]
  },
  {
   "cell_type": "markdown",
   "id": "5f03fbfc-835b-448c-a489-c1f25de8c46c",
   "metadata": {},
   "source": [
    "# Deployment"
   ]
  },
  {
   "cell_type": "markdown",
   "id": "cd9e9fc7-5ad7-4619-a90b-141c79412818",
   "metadata": {},
   "source": [
    "### 1. Initialize Hub API Project\n",
    "Open a terminal and run the following command,\n",
    "```\n",
    "hub init zero-shot-text-clf\n",
    "```\n",
    "\n",
    "![hub init](https://cellstrat-public.s3.amazonaws.com/workshop-files/hub-init-zstc.png)\n",
    "\n",
    "Let's look at each one of those files,\n",
    "1. `Dockerfile` - Every Hub API deployment package is essentially a docker image which contains the source code and the required libraries when built and deployed. Generally, its all automatically setup for almost all use cases so you don't need to change anything. _But if you are already familiar with docker you can modify the container and optimize it further._\n",
    "2. `hub_config.json` - This contains some basic configuration of the project like the name of the project and its version. This file is what defines a project as a Hub API project. You don't need to change anything there as well.\n",
    "3. `model/` - This folder is the place where all our model weights and other large files go. The contents of this folder are stored in a separate network storage and not part for the docker image so the image size remains as minimal as possible. The contents of this folder are available in the `MODEL_DIR` environment variable in your source code.\n",
    "4. `src/` - This is where all your source code goes in and it already has a few boilerplate files generated.\n",
    "    - `main.py` - This is the main python file which gets executed whenever a request is made to your model. We will explore it more as we go further.\n",
    "    - `requirements.txt` - This is where you will list out the libraries required for your model to run.\n",
    "    - `utils.py` - This is just a module which contains some utility methods for common operations which you might need when working with things like base64 encoded images. You can add your own utilities in this file."
   ]
  },
  {
   "cell_type": "markdown",
   "id": "8f3b48bc-194c-4893-8a8e-5684317d0c27",
   "metadata": {},
   "source": [
    "### 2. Integration\n",
    "\n",
    "#### i. Copy the files from `model_files/` to `zero-shot-text-clf/model/` folder in Hub API project\n",
    "\n",
    "#### ii. Add your prediction code to the `zero-shot-text-clf/src/main.py` file\n",
    "```python\n",
    "import os\n",
    "from hub import hub_handler\n",
    "import torch\n",
    "from transformers import AutoModelForSequenceClassification, AutoTokenizer\n",
    "\n",
    "MODEL_DIR = os.getenv(\"MODEL_DIR\")\n",
    "tokenizer = AutoTokenizer.from_pretrained(MODEL_DIR)\n",
    "model = AutoModelForSequenceClassification.from_pretrained(MODEL_DIR)\n",
    "\n",
    "def preprocess(text, classes, hypothesis_template=\"This text is about {}\"):\n",
    "    '''Preprocesses a single input text to align with each class'''\n",
    "    # create the hypotheses for each class\n",
    "    hypotheses = [hypothesis_template.format(c) for c in classes]\n",
    "    \n",
    "    # preprocess the inputs\n",
    "    inputs = tokenizer(\n",
    "        [text] * len(classes), \n",
    "        hypotheses, \n",
    "        return_tensors='pt',\n",
    "        truncation='only_first',\n",
    "        padding=True\n",
    "    )['input_ids']\n",
    "    \n",
    "    return inputs\n",
    "\n",
    "def post_process(logits, classes):\n",
    "    '''Post-processes the model output to get the entailment logits and get the class prediction'''\n",
    "    # get the index of entailment\n",
    "    idx = model.config.label2id['entailment']\n",
    "    # apply softmax over the entailment logits\n",
    "    probabilities = torch.softmax(logits[:, idx], dim=0).tolist()\n",
    "    \n",
    "    output = []\n",
    "    for i, prob in enumerate(probabilities):\n",
    "        output.append(\n",
    "            (classes[i], round(prob, 4))\n",
    "        )\n",
    "    \n",
    "    return output\n",
    "\n",
    "@hub_handler\n",
    "def inference_handler(inputs, _):\n",
    "    '''The main inference function which gets triggered when the API is invoked\n",
    "    Args:\n",
    "        inputs (dict): The payload the model recieves of the following format:\n",
    "                {\n",
    "                    \"text\": \"The text to be classified here\",\n",
    "                    \"classes\": ['class 1', 'class 2', 'and so on...']\n",
    "                }\n",
    "    Returns:\n",
    "        dict: Model output of the following format  \n",
    "                [('class 1', 0.7474),\n",
    "                 ('class 2', 0.1989),\n",
    "                 ('class 3', 0.0488)]\n",
    "    '''\n",
    "\n",
    "    # Preprocess inputs\n",
    "    model_inputs = preprocess(inputs['text'], inputs['classes'])\n",
    "    \n",
    "    # Make predictions\n",
    "    with torch.inference_mode():\n",
    "        logits = model(model_inputs).logits\n",
    "        \n",
    "    # Postprocess the predictions\n",
    "    output = post_process(logits, inputs['classes'])\n",
    "\n",
    "    return output\n",
    "\n",
    "```\n",
    "\n",
    "#### iii. Add the libraries in `zero-shot-text-clf/src/requirements.txt`\n",
    "```\n",
    "torch\n",
    "transformers\n",
    "```"
   ]
  },
  {
   "cell_type": "markdown",
   "id": "d7455a57-74e0-4b7d-b47f-882fdac36fe8",
   "metadata": {},
   "source": [
    "### 3. Build and Deploy\n",
    "\n",
    "Change directory into the `zero-shot-text-clf` project folder in the terminal and then run the following commands,\n",
    "```bash\n",
    "hub build\n",
    "hub deploy\n",
    "```"
   ]
  },
  {
   "cell_type": "markdown",
   "id": "76c5187e-65d2-43af-a73e-55cd48d34071",
   "metadata": {},
   "source": [
    "### Test the Deployed API"
   ]
  },
  {
   "cell_type": "code",
   "execution_count": 33,
   "id": "af12b76b-0f5e-4f1b-a527-3ffb868c2bc1",
   "metadata": {},
   "outputs": [],
   "source": [
    "import os\n",
    "import json\n",
    "import requests\n",
    "import base64\n",
    "\n",
    "# Paste your key and username here\n",
    "API_KEY = \"YOUR API KEY\"\n",
    "\n",
    "# The API endpoint for your Hub API project of format https://api.cellstrathub.com/{USERNAME}/{API_NAME}\n",
    "endpoint = \"YOUR ENDPOINT\"\n",
    "\n",
    "headers = {\n",
    "  \"x-api-key\": API_KEY,\n",
    "  \"Content-Type\": \"application/json\"\n",
    "}"
   ]
  },
  {
   "cell_type": "markdown",
   "id": "05a3367b-693f-45be-ae1b-356c028914b1",
   "metadata": {},
   "source": [
    "We will start by making a `GET` request to load the model in memory. This request takes a minimum of 20 seconds which is a fixed to give enough time for the model to load asynchronously. You need to run this only once per session."
   ]
  },
  {
   "cell_type": "code",
   "execution_count": 26,
   "id": "8b89675c-58e4-4ba9-b83f-16c65b3483bf",
   "metadata": {},
   "outputs": [
    {
     "data": {
      "text/plain": [
       "{'statusCode': 200,\n",
       " 'headers': {'Content-Type': 'application/json',\n",
       "  'Access-Control-Allow-Origin': '*'},\n",
       " 'body': 'Model Loaded in Memory'}"
      ]
     },
     "execution_count": 26,
     "metadata": {},
     "output_type": "execute_result"
    }
   ],
   "source": [
    "requests.get(endpoint, headers=headers).json()"
   ]
  },
  {
   "cell_type": "code",
   "execution_count": 29,
   "id": "df4267f5-4db4-4a1d-83c2-a26408dabd23",
   "metadata": {},
   "outputs": [],
   "source": [
    "text = \"\"\"Tesla's autonomous driving capability has inspired hair-raising antics on the road. \n",
    "Now the company is deploying an algorithm to determine whether customers have shown sufficiently \n",
    "sound judgement to use its “Full Self-Driving” software. What's new: Starting this week, the beta-test \n",
    "version of Tesla's latest self-driving update will be available only to drivers who have \n",
    "demonstrated safe driving. The beta program previously was open to about 2,000 drivers.\n",
    "\"\"\""
   ]
  },
  {
   "cell_type": "code",
   "execution_count": 30,
   "id": "b2d84494-31d1-413e-8dbf-98fda7ae6881",
   "metadata": {},
   "outputs": [],
   "source": [
    "classes = ['technology', 'finance', 'sports', 'business']"
   ]
  },
  {
   "cell_type": "markdown",
   "id": "2f378b76-d06f-4785-8757-eb74669ea39c",
   "metadata": {},
   "source": [
    "Now we will make a `POST` request for inference where we send our inputs in the body and then get the response back with the predictions."
   ]
  },
  {
   "cell_type": "code",
   "execution_count": 32,
   "id": "5874ae47-0f8a-489d-97be-ed89ed2e090a",
   "metadata": {},
   "outputs": [
    {
     "data": {
      "text/plain": [
       "[['technology', 0.4171],\n",
       " ['finance', 0.1195],\n",
       " ['sports', 0.1811],\n",
       " ['business', 0.2823]]"
      ]
     },
     "execution_count": 32,
     "metadata": {},
     "output_type": "execute_result"
    }
   ],
   "source": [
    "payload = {\n",
    "    'text': text,\n",
    "    'classes': classes\n",
    "}\n",
    "\n",
    "# Send the POST request\n",
    "response = requests.post(endpoint, headers=headers, data=json.dumps(payload)).json()\n",
    "\n",
    "if response.get('statusCode') == 200:\n",
    "    # Parse the output\n",
    "    output = response['body']['output']\n",
    "else:\n",
    "    output = response\n",
    "\n",
    "output"
   ]
  },
  {
   "cell_type": "code",
   "execution_count": null,
   "id": "66027ed5-1794-425a-80c0-bcc83b85693a",
   "metadata": {},
   "outputs": [],
   "source": []
  }
 ],
 "metadata": {
  "kernelspec": {
   "display_name": "PyTorch 1.9",
   "language": "python",
   "name": "pytorch"
  },
  "language_info": {
   "codemirror_mode": {
    "name": "ipython",
    "version": 3
   },
   "file_extension": ".py",
   "mimetype": "text/x-python",
   "name": "python",
   "nbconvert_exporter": "python",
   "pygments_lexer": "ipython3",
   "version": "3.8.8"
  },
  "widgets": {
   "application/vnd.jupyter.widget-state+json": {
    "state": {
     "016e97498c7443be948465ef8ec7d14d": {
      "model_module": "@jupyter-widgets/controls",
      "model_module_version": "1.5.0",
      "model_name": "ProgressStyleModel",
      "state": {
       "description_width": ""
      }
     },
     "0239799ab22241a4a58abef48ea29759": {
      "model_module": "@jupyter-widgets/base",
      "model_module_version": "1.2.0",
      "model_name": "LayoutModel",
      "state": {}
     },
     "1378334a7737487fae5e9dac6c554ede": {
      "model_module": "@jupyter-widgets/controls",
      "model_module_version": "1.5.0",
      "model_name": "HBoxModel",
      "state": {
       "children": [
        "IPY_MODEL_1fd830ea63e34d6ca7c024818203ad01",
        "IPY_MODEL_2f8da24e7ffc4ffebe312dab10bdfd19",
        "IPY_MODEL_1ebdbbd106444d31a3e49561975234f5"
       ],
       "layout": "IPY_MODEL_d888cb1385e34f2c8c048eea38c4d545"
      }
     },
     "1c0e4e387576472994dc3b892fa4ae46": {
      "model_module": "@jupyter-widgets/controls",
      "model_module_version": "1.5.0",
      "model_name": "DescriptionStyleModel",
      "state": {
       "description_width": ""
      }
     },
     "1ebdbbd106444d31a3e49561975234f5": {
      "model_module": "@jupyter-widgets/controls",
      "model_module_version": "1.5.0",
      "model_name": "HTMLModel",
      "state": {
       "layout": "IPY_MODEL_306e5a4f05e24222beb1f67c6f4c61e6",
       "style": "IPY_MODEL_941f98ce4517451096590c08ba4d6f8c",
       "value": " 899k/899k [00:00&lt;00:00, 19.4MB/s]"
      }
     },
     "1f7ba6909b024deb896e26ce7d775f39": {
      "model_module": "@jupyter-widgets/base",
      "model_module_version": "1.2.0",
      "model_name": "LayoutModel",
      "state": {}
     },
     "1fd830ea63e34d6ca7c024818203ad01": {
      "model_module": "@jupyter-widgets/controls",
      "model_module_version": "1.5.0",
      "model_name": "HTMLModel",
      "state": {
       "layout": "IPY_MODEL_7214bcd426354ba8bdc393ef7ac3aa31",
       "style": "IPY_MODEL_abb85d0829f44749a41d951a73b207fc",
       "value": "Downloading: 100%"
      }
     },
     "1fdc8bae60584bd9a07000779d2b4669": {
      "model_module": "@jupyter-widgets/controls",
      "model_module_version": "1.5.0",
      "model_name": "FloatProgressModel",
      "state": {
       "bar_style": "success",
       "layout": "IPY_MODEL_8cdd96a8e19342f3b912c53d640248c9",
       "max": 1024804435,
       "style": "IPY_MODEL_016e97498c7443be948465ef8ec7d14d",
       "value": 1024804435
      }
     },
     "20f045ee5d114cd2ad2eeac42b600caa": {
      "model_module": "@jupyter-widgets/base",
      "model_module_version": "1.2.0",
      "model_name": "LayoutModel",
      "state": {}
     },
     "2f8da24e7ffc4ffebe312dab10bdfd19": {
      "model_module": "@jupyter-widgets/controls",
      "model_module_version": "1.5.0",
      "model_name": "FloatProgressModel",
      "state": {
       "bar_style": "success",
       "layout": "IPY_MODEL_49651d3c203e4f839b54a0b1f02ea949",
       "max": 898822,
       "style": "IPY_MODEL_c517a530faa645b08781f4bea166c025",
       "value": 898822
      }
     },
     "306e5a4f05e24222beb1f67c6f4c61e6": {
      "model_module": "@jupyter-widgets/base",
      "model_module_version": "1.2.0",
      "model_name": "LayoutModel",
      "state": {}
     },
     "31862490a06e456d81c58595101aac25": {
      "model_module": "@jupyter-widgets/base",
      "model_module_version": "1.2.0",
      "model_name": "LayoutModel",
      "state": {}
     },
     "320fc88e3fe04642addbfd2c186bdf05": {
      "model_module": "@jupyter-widgets/base",
      "model_module_version": "1.2.0",
      "model_name": "LayoutModel",
      "state": {}
     },
     "3797fbd7ca3947f8a33966ac3293b912": {
      "model_module": "@jupyter-widgets/controls",
      "model_module_version": "1.5.0",
      "model_name": "HBoxModel",
      "state": {
       "children": [
        "IPY_MODEL_c1ac71633dab445293c3d014774cbd0f",
        "IPY_MODEL_1fdc8bae60584bd9a07000779d2b4669",
        "IPY_MODEL_6760c42fa12f4373a4f94535334dc0ea"
       ],
       "layout": "IPY_MODEL_1f7ba6909b024deb896e26ce7d775f39"
      }
     },
     "3ac2f065815f4605ba2516d15d78be3f": {
      "model_module": "@jupyter-widgets/controls",
      "model_module_version": "1.5.0",
      "model_name": "HTMLModel",
      "state": {
       "layout": "IPY_MODEL_e9442825202944a093b146568fba71f8",
       "style": "IPY_MODEL_77b662dc3c3442239af4693b10d6eaa5",
       "value": "Downloading: 100%"
      }
     },
     "3ebcbaa0b8a0427382eaacff43ed07c1": {
      "model_module": "@jupyter-widgets/controls",
      "model_module_version": "1.5.0",
      "model_name": "HBoxModel",
      "state": {
       "children": [
        "IPY_MODEL_3ac2f065815f4605ba2516d15d78be3f",
        "IPY_MODEL_c6d3630c392b4ff5af069f2e327ce737",
        "IPY_MODEL_d159f04472e54cdd815a991dbb506c69"
       ],
       "layout": "IPY_MODEL_5d5e3379bade496893a5f730789d7d5a"
      }
     },
     "49651d3c203e4f839b54a0b1f02ea949": {
      "model_module": "@jupyter-widgets/base",
      "model_module_version": "1.2.0",
      "model_name": "LayoutModel",
      "state": {}
     },
     "4c3706d38c6341cbb64b05bb428b391b": {
      "model_module": "@jupyter-widgets/base",
      "model_module_version": "1.2.0",
      "model_name": "LayoutModel",
      "state": {}
     },
     "5070d2ab24224d1e9d1e35aa02bb3f4f": {
      "model_module": "@jupyter-widgets/controls",
      "model_module_version": "1.5.0",
      "model_name": "DescriptionStyleModel",
      "state": {
       "description_width": ""
      }
     },
     "51db2d50602d413482668f361028f60d": {
      "model_module": "@jupyter-widgets/controls",
      "model_module_version": "1.5.0",
      "model_name": "ProgressStyleModel",
      "state": {
       "description_width": ""
      }
     },
     "5c4a344ae890467e9f6870fc48e9ffe8": {
      "model_module": "@jupyter-widgets/base",
      "model_module_version": "1.2.0",
      "model_name": "LayoutModel",
      "state": {}
     },
     "5d5e3379bade496893a5f730789d7d5a": {
      "model_module": "@jupyter-widgets/base",
      "model_module_version": "1.2.0",
      "model_name": "LayoutModel",
      "state": {}
     },
     "5f21dcfccb174e14b22738f731bc315c": {
      "model_module": "@jupyter-widgets/base",
      "model_module_version": "1.2.0",
      "model_name": "LayoutModel",
      "state": {}
     },
     "61ceb98a4aba43a78be9f5639151c693": {
      "model_module": "@jupyter-widgets/base",
      "model_module_version": "1.2.0",
      "model_name": "LayoutModel",
      "state": {}
     },
     "62ded25adec74486b13ff08c93a47e84": {
      "model_module": "@jupyter-widgets/controls",
      "model_module_version": "1.5.0",
      "model_name": "DescriptionStyleModel",
      "state": {
       "description_width": ""
      }
     },
     "632edab38d4c4359b11c418459864d0e": {
      "model_module": "@jupyter-widgets/base",
      "model_module_version": "1.2.0",
      "model_name": "LayoutModel",
      "state": {}
     },
     "6760c42fa12f4373a4f94535334dc0ea": {
      "model_module": "@jupyter-widgets/controls",
      "model_module_version": "1.5.0",
      "model_name": "HTMLModel",
      "state": {
       "layout": "IPY_MODEL_0239799ab22241a4a58abef48ea29759",
       "style": "IPY_MODEL_62ded25adec74486b13ff08c93a47e84",
       "value": " 1.02G/1.02G [00:12&lt;00:00, 78.9MB/s]"
      }
     },
     "684856e9884648ee9c1f248bf60b8e74": {
      "model_module": "@jupyter-widgets/controls",
      "model_module_version": "1.5.0",
      "model_name": "HTMLModel",
      "state": {
       "layout": "IPY_MODEL_9a502331b38e492692d02bc28b092d01",
       "style": "IPY_MODEL_f0de32bfe52648dd9947cef164e61d99",
       "value": " 1.39k/1.39k [00:00&lt;00:00, 53.4kB/s]"
      }
     },
     "6c27d539f2be4b078f866fa512b1e4e4": {
      "model_module": "@jupyter-widgets/controls",
      "model_module_version": "1.5.0",
      "model_name": "HTMLModel",
      "state": {
       "layout": "IPY_MODEL_d09c49f09d5940198f55adb0f9686dee",
       "style": "IPY_MODEL_bbc26ab67c1a4316876c58b0c2254dec",
       "value": " 772/772 [00:00&lt;00:00, 32.6kB/s]"
      }
     },
     "6e405dc88b4143f2928239918a29d33c": {
      "model_module": "@jupyter-widgets/controls",
      "model_module_version": "1.5.0",
      "model_name": "HBoxModel",
      "state": {
       "children": [
        "IPY_MODEL_d9e5d3d25f354fd495b2eefa2c46e95c",
        "IPY_MODEL_6ecb47fb7e1b4e459b33924f46250377",
        "IPY_MODEL_6c27d539f2be4b078f866fa512b1e4e4"
       ],
       "layout": "IPY_MODEL_5f21dcfccb174e14b22738f731bc315c"
      }
     },
     "6ecb47fb7e1b4e459b33924f46250377": {
      "model_module": "@jupyter-widgets/controls",
      "model_module_version": "1.5.0",
      "model_name": "FloatProgressModel",
      "state": {
       "bar_style": "success",
       "layout": "IPY_MODEL_f79ebc04a65c40e6ba0214003338ff5e",
       "max": 772,
       "style": "IPY_MODEL_e4fbaac254094c76b9f137d96d86ae63",
       "value": 772
      }
     },
     "7214bcd426354ba8bdc393ef7ac3aa31": {
      "model_module": "@jupyter-widgets/base",
      "model_module_version": "1.2.0",
      "model_name": "LayoutModel",
      "state": {}
     },
     "77b662dc3c3442239af4693b10d6eaa5": {
      "model_module": "@jupyter-widgets/controls",
      "model_module_version": "1.5.0",
      "model_name": "DescriptionStyleModel",
      "state": {
       "description_width": ""
      }
     },
     "884565784a954f38be9184bb6ae5f280": {
      "model_module": "@jupyter-widgets/controls",
      "model_module_version": "1.5.0",
      "model_name": "HTMLModel",
      "state": {
       "layout": "IPY_MODEL_31862490a06e456d81c58595101aac25",
       "style": "IPY_MODEL_c8d248865e6e40c9abad80fb57cdd0b6",
       "value": "Downloading: 100%"
      }
     },
     "8b3914fd738945c4ab20fc487de02c1d": {
      "model_module": "@jupyter-widgets/base",
      "model_module_version": "1.2.0",
      "model_name": "LayoutModel",
      "state": {}
     },
     "8c182536329e47ac85363ffc6dc73093": {
      "model_module": "@jupyter-widgets/base",
      "model_module_version": "1.2.0",
      "model_name": "LayoutModel",
      "state": {}
     },
     "8cdd96a8e19342f3b912c53d640248c9": {
      "model_module": "@jupyter-widgets/base",
      "model_module_version": "1.2.0",
      "model_name": "LayoutModel",
      "state": {}
     },
     "8e608251e0c94a2cbd34f8b5b657898b": {
      "model_module": "@jupyter-widgets/controls",
      "model_module_version": "1.5.0",
      "model_name": "HBoxModel",
      "state": {
       "children": [
        "IPY_MODEL_884565784a954f38be9184bb6ae5f280",
        "IPY_MODEL_d5dc7597b24b4bcdb7c61fede4038407",
        "IPY_MODEL_684856e9884648ee9c1f248bf60b8e74"
       ],
       "layout": "IPY_MODEL_8b3914fd738945c4ab20fc487de02c1d"
      }
     },
     "941f98ce4517451096590c08ba4d6f8c": {
      "model_module": "@jupyter-widgets/controls",
      "model_module_version": "1.5.0",
      "model_name": "DescriptionStyleModel",
      "state": {
       "description_width": ""
      }
     },
     "96a0c7ad9fbe4607ad8afe6786836edd": {
      "model_module": "@jupyter-widgets/controls",
      "model_module_version": "1.5.0",
      "model_name": "HBoxModel",
      "state": {
       "children": [
        "IPY_MODEL_e31931301d0f475f8e5cd1e8823ac9af",
        "IPY_MODEL_c357445cec824569aec1492e191248c6",
        "IPY_MODEL_e188f27cd2904891a4e3960e0ea436d6"
       ],
       "layout": "IPY_MODEL_4c3706d38c6341cbb64b05bb428b391b"
      }
     },
     "9982859cb5e5479282d6c0f9ef90e3ce": {
      "model_module": "@jupyter-widgets/controls",
      "model_module_version": "1.5.0",
      "model_name": "ProgressStyleModel",
      "state": {
       "description_width": ""
      }
     },
     "9a502331b38e492692d02bc28b092d01": {
      "model_module": "@jupyter-widgets/base",
      "model_module_version": "1.2.0",
      "model_name": "LayoutModel",
      "state": {}
     },
     "9cc5b4e36e984caa837279aae83d92f3": {
      "model_module": "@jupyter-widgets/base",
      "model_module_version": "1.2.0",
      "model_name": "LayoutModel",
      "state": {}
     },
     "abb85d0829f44749a41d951a73b207fc": {
      "model_module": "@jupyter-widgets/controls",
      "model_module_version": "1.5.0",
      "model_name": "DescriptionStyleModel",
      "state": {
       "description_width": ""
      }
     },
     "bbc26ab67c1a4316876c58b0c2254dec": {
      "model_module": "@jupyter-widgets/controls",
      "model_module_version": "1.5.0",
      "model_name": "DescriptionStyleModel",
      "state": {
       "description_width": ""
      }
     },
     "c1ac71633dab445293c3d014774cbd0f": {
      "model_module": "@jupyter-widgets/controls",
      "model_module_version": "1.5.0",
      "model_name": "HTMLModel",
      "state": {
       "layout": "IPY_MODEL_632edab38d4c4359b11c418459864d0e",
       "style": "IPY_MODEL_fe28b42418a44a06a4b6db9da4136e18",
       "value": "Downloading: 100%"
      }
     },
     "c357445cec824569aec1492e191248c6": {
      "model_module": "@jupyter-widgets/controls",
      "model_module_version": "1.5.0",
      "model_name": "FloatProgressModel",
      "state": {
       "bar_style": "success",
       "layout": "IPY_MODEL_61ceb98a4aba43a78be9f5639151c693",
       "max": 456318,
       "style": "IPY_MODEL_51db2d50602d413482668f361028f60d",
       "value": 456318
      }
     },
     "c517a530faa645b08781f4bea166c025": {
      "model_module": "@jupyter-widgets/controls",
      "model_module_version": "1.5.0",
      "model_name": "ProgressStyleModel",
      "state": {
       "description_width": ""
      }
     },
     "c6d3630c392b4ff5af069f2e327ce737": {
      "model_module": "@jupyter-widgets/controls",
      "model_module_version": "1.5.0",
      "model_name": "FloatProgressModel",
      "state": {
       "bar_style": "success",
       "layout": "IPY_MODEL_5c4a344ae890467e9f6870fc48e9ffe8",
       "max": 26,
       "style": "IPY_MODEL_d926f4d8d19148adae057498017a69b5",
       "value": 26
      }
     },
     "c74ac14210fc44ebbb3d8ada30b9c048": {
      "model_module": "@jupyter-widgets/base",
      "model_module_version": "1.2.0",
      "model_name": "LayoutModel",
      "state": {}
     },
     "c8d248865e6e40c9abad80fb57cdd0b6": {
      "model_module": "@jupyter-widgets/controls",
      "model_module_version": "1.5.0",
      "model_name": "DescriptionStyleModel",
      "state": {
       "description_width": ""
      }
     },
     "d09c49f09d5940198f55adb0f9686dee": {
      "model_module": "@jupyter-widgets/base",
      "model_module_version": "1.2.0",
      "model_name": "LayoutModel",
      "state": {}
     },
     "d159f04472e54cdd815a991dbb506c69": {
      "model_module": "@jupyter-widgets/controls",
      "model_module_version": "1.5.0",
      "model_name": "HTMLModel",
      "state": {
       "layout": "IPY_MODEL_320fc88e3fe04642addbfd2c186bdf05",
       "style": "IPY_MODEL_1c0e4e387576472994dc3b892fa4ae46",
       "value": " 26.0/26.0 [00:00&lt;00:00, 822B/s]"
      }
     },
     "d5dc7597b24b4bcdb7c61fede4038407": {
      "model_module": "@jupyter-widgets/controls",
      "model_module_version": "1.5.0",
      "model_name": "FloatProgressModel",
      "state": {
       "bar_style": "success",
       "layout": "IPY_MODEL_8c182536329e47ac85363ffc6dc73093",
       "max": 1389,
       "style": "IPY_MODEL_9982859cb5e5479282d6c0f9ef90e3ce",
       "value": 1389
      }
     },
     "d888cb1385e34f2c8c048eea38c4d545": {
      "model_module": "@jupyter-widgets/base",
      "model_module_version": "1.2.0",
      "model_name": "LayoutModel",
      "state": {}
     },
     "d926f4d8d19148adae057498017a69b5": {
      "model_module": "@jupyter-widgets/controls",
      "model_module_version": "1.5.0",
      "model_name": "ProgressStyleModel",
      "state": {
       "description_width": ""
      }
     },
     "d9e5d3d25f354fd495b2eefa2c46e95c": {
      "model_module": "@jupyter-widgets/controls",
      "model_module_version": "1.5.0",
      "model_name": "HTMLModel",
      "state": {
       "layout": "IPY_MODEL_c74ac14210fc44ebbb3d8ada30b9c048",
       "style": "IPY_MODEL_fe16117b53ac43e1bf06a78cc83ddc07",
       "value": "Downloading: 100%"
      }
     },
     "e188f27cd2904891a4e3960e0ea436d6": {
      "model_module": "@jupyter-widgets/controls",
      "model_module_version": "1.5.0",
      "model_name": "HTMLModel",
      "state": {
       "layout": "IPY_MODEL_9cc5b4e36e984caa837279aae83d92f3",
       "style": "IPY_MODEL_5070d2ab24224d1e9d1e35aa02bb3f4f",
       "value": " 456k/456k [00:00&lt;00:00, 12.9MB/s]"
      }
     },
     "e31931301d0f475f8e5cd1e8823ac9af": {
      "model_module": "@jupyter-widgets/controls",
      "model_module_version": "1.5.0",
      "model_name": "HTMLModel",
      "state": {
       "layout": "IPY_MODEL_20f045ee5d114cd2ad2eeac42b600caa",
       "style": "IPY_MODEL_e5fd79b9a80046c5b4f8e40613dec96f",
       "value": "Downloading: 100%"
      }
     },
     "e4fbaac254094c76b9f137d96d86ae63": {
      "model_module": "@jupyter-widgets/controls",
      "model_module_version": "1.5.0",
      "model_name": "ProgressStyleModel",
      "state": {
       "description_width": ""
      }
     },
     "e5fd79b9a80046c5b4f8e40613dec96f": {
      "model_module": "@jupyter-widgets/controls",
      "model_module_version": "1.5.0",
      "model_name": "DescriptionStyleModel",
      "state": {
       "description_width": ""
      }
     },
     "e9442825202944a093b146568fba71f8": {
      "model_module": "@jupyter-widgets/base",
      "model_module_version": "1.2.0",
      "model_name": "LayoutModel",
      "state": {}
     },
     "f0de32bfe52648dd9947cef164e61d99": {
      "model_module": "@jupyter-widgets/controls",
      "model_module_version": "1.5.0",
      "model_name": "DescriptionStyleModel",
      "state": {
       "description_width": ""
      }
     },
     "f79ebc04a65c40e6ba0214003338ff5e": {
      "model_module": "@jupyter-widgets/base",
      "model_module_version": "1.2.0",
      "model_name": "LayoutModel",
      "state": {}
     },
     "fe16117b53ac43e1bf06a78cc83ddc07": {
      "model_module": "@jupyter-widgets/controls",
      "model_module_version": "1.5.0",
      "model_name": "DescriptionStyleModel",
      "state": {
       "description_width": ""
      }
     },
     "fe28b42418a44a06a4b6db9da4136e18": {
      "model_module": "@jupyter-widgets/controls",
      "model_module_version": "1.5.0",
      "model_name": "DescriptionStyleModel",
      "state": {
       "description_width": ""
      }
     }
    },
    "version_major": 2,
    "version_minor": 0
   }
  }
 },
 "nbformat": 4,
 "nbformat_minor": 5
}
