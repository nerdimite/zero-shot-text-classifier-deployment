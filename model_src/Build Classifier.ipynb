{
 "cells": [
  {
   "cell_type": "markdown",
   "id": "27641766-bf34-4ee4-a6c4-1e2307d647a0",
   "metadata": {
    "tags": []
   },
   "source": [
    "# Zero Shot Text Classifier"
   ]
  },
  {
   "cell_type": "markdown",
   "id": "c083bbf4-c7f9-4463-9292-f2e3e85cd952",
   "metadata": {},
   "source": [
    "## Development"
   ]
  },
  {
   "cell_type": "code",
   "execution_count": null,
   "id": "d26d78ea-84a3-482b-bbb8-8ace60ed6bfc",
   "metadata": {},
   "outputs": [],
   "source": [
    "import torch\n",
    "from transformers import AutoModelForSequenceClassification, AutoTokenizer"
   ]
  },
  {
   "cell_type": "markdown",
   "id": "339fd2e1-889d-4780-bf39-2906b28cb67b",
   "metadata": {},
   "source": [
    "### Load Pretrained Model"
   ]
  },
  {
   "cell_type": "code",
   "execution_count": null,
   "id": "44bcde4f-59a3-463a-9d01-649f79a5786e",
   "metadata": {},
   "outputs": [],
   "source": [
    "tokenizer = AutoTokenizer.from_pretrained('valhalla/distilbart-mnli-12-3')"
   ]
  },
  {
   "cell_type": "code",
   "execution_count": null,
   "id": "d9d29180-e83c-4184-9328-26dba90ff08b",
   "metadata": {},
   "outputs": [],
   "source": [
    "model = AutoModelForSequenceClassification.from_pretrained('valhalla/distilbart-mnli-12-3')"
   ]
  },
  {
   "cell_type": "markdown",
   "id": "6c80433d-251d-461e-8d84-446f612af8e8",
   "metadata": {},
   "source": [
    "### Preprocess Inputs"
   ]
  },
  {
   "cell_type": "code",
   "execution_count": null,
   "id": "f01857ff-19c3-4b7d-b480-caf0db9755f8",
   "metadata": {},
   "outputs": [],
   "source": [
    "text = \"\"\"Last week I upgraded my iOS version and ever since then my phone has been overheating \n",
    "whenever I use your app.\n",
    "\"\"\""
   ]
  },
  {
   "cell_type": "code",
   "execution_count": null,
   "id": "bab10a40-5239-4727-8849-56b5fabad4d0",
   "metadata": {},
   "outputs": [],
   "source": [
    "classes = ['mobile', 'website', 'billing', 'account access']"
   ]
  },
  {
   "cell_type": "code",
   "execution_count": null,
   "id": "917d14a1-1c5e-44ec-9d6a-78e0a73ea5cd",
   "metadata": {},
   "outputs": [],
   "source": [
    "hypothesis_template = \"This text is about {}\""
   ]
  },
  {
   "cell_type": "code",
   "execution_count": null,
   "id": "78ad6643-fd97-4b7a-8c18-c85e190f3b3a",
   "metadata": {},
   "outputs": [],
   "source": [
    "def preprocess(text, classes, hypothesis_template):\n",
    "    '''Preprocesses a single input text to align with each class'''\n",
    "    # create the hypotheses for each class\n",
    "    hypotheses = [hypothesis_template.format(c) for c in classes]\n",
    "    \n",
    "    # preprocess the inputs\n",
    "    inputs = tokenizer(\n",
    "        [text] * len(classes), \n",
    "        hypotheses, \n",
    "        return_tensors='pt',\n",
    "        truncation='only_first',\n",
    "        padding=True\n",
    "    )['input_ids']\n",
    "    \n",
    "    return inputs"
   ]
  },
  {
   "cell_type": "code",
   "execution_count": null,
   "id": "7594b651-5d1e-4687-af02-d8caf7a9bd0c",
   "metadata": {},
   "outputs": [],
   "source": [
    "inputs = preprocess(text, classes, hypothesis_template)"
   ]
  },
  {
   "cell_type": "markdown",
   "id": "5ee07ff1-1ba5-47c8-bafe-e999ae744449",
   "metadata": {},
   "source": [
    "### Make Predictions"
   ]
  },
  {
   "cell_type": "code",
   "execution_count": null,
   "id": "144e95b4-71b7-49f2-b226-6e149f0fd474",
   "metadata": {},
   "outputs": [],
   "source": [
    "logits = model(inputs).logits"
   ]
  },
  {
   "cell_type": "code",
   "execution_count": null,
   "id": "fb751ad4-6d3a-4d40-958d-1460c5154fe1",
   "metadata": {},
   "outputs": [],
   "source": [
    "print('Model Logits:', logits)"
   ]
  },
  {
   "cell_type": "code",
   "execution_count": null,
   "id": "bd629487-d313-4f77-8bdd-e7f117ec636f",
   "metadata": {},
   "outputs": [],
   "source": [
    "def post_process(logits, classes):\n",
    "    '''Post-processes the model output to get the entailment logits and get the class prediction'''\n",
    "    idx = model.config.label2id['entailment']\n",
    "    probabilities = torch.softmax(logits[:, idx], dim=0).tolist()\n",
    "    \n",
    "    output = []\n",
    "    for i, prob in enumerate(probabilities):\n",
    "        output.append(\n",
    "            (classes[i], round(prob, 4))\n",
    "        )\n",
    "    \n",
    "    return output"
   ]
  },
  {
   "cell_type": "code",
   "execution_count": null,
   "id": "6bb619c5-d845-4b10-a1ee-14fdae07afbb",
   "metadata": {},
   "outputs": [],
   "source": [
    "post_process(logits, classes)"
   ]
  },
  {
   "cell_type": "markdown",
   "id": "5b9fe12a-6472-4ac1-ba0a-52a76c5241c9",
   "metadata": {},
   "source": [
    "### Save Model and Tokenizer for Offline Inference"
   ]
  },
  {
   "cell_type": "code",
   "execution_count": null,
   "id": "df9f672a-ff95-4db3-afae-8e668a96fb01",
   "metadata": {},
   "outputs": [],
   "source": [
    "tokenizer.save_pretrained('model_files')"
   ]
  },
  {
   "cell_type": "code",
   "execution_count": null,
   "id": "9570d4d2-37e9-42d2-850f-ae0cfab9f616",
   "metadata": {},
   "outputs": [],
   "source": [
    "model.save_pretrained('model_files')"
   ]
  },
  {
   "cell_type": "markdown",
   "id": "5f03fbfc-835b-448c-a489-c1f25de8c46c",
   "metadata": {},
   "source": [
    "## Deployment"
   ]
  },
  {
   "cell_type": "markdown",
   "id": "a79ad5e4-39ea-4f0a-adec-48e271b64b2f",
   "metadata": {},
   "source": [
    "### Test Inference Script"
   ]
  },
  {
   "cell_type": "code",
   "execution_count": null,
   "id": "efe7de60-0961-482a-a867-eace6af19d2a",
   "metadata": {},
   "outputs": [],
   "source": [
    "from inference import ZeroShotClassifier"
   ]
  },
  {
   "cell_type": "code",
   "execution_count": null,
   "id": "3a8ee9e9-4be7-4596-9cc0-621de651d755",
   "metadata": {},
   "outputs": [],
   "source": [
    "classifier = ZeroShotClassifier('model_files')"
   ]
  },
  {
   "cell_type": "code",
   "execution_count": null,
   "id": "25508c39-ba9b-4cfc-9151-6318c2308c54",
   "metadata": {},
   "outputs": [],
   "source": [
    "text = \"\"\"Tesla’s autonomous driving capability has inspired hair-raising antics on the road. \n",
    "Now the company is deploying an algorithm to determine whether customers have shown sufficiently \n",
    "sound judgement to use its “Full Self-Driving” software. What’s new: Starting this week, the beta-test \n",
    "version of Tesla’s latest self-driving update will be available only to drivers who have \n",
    "demonstrated safe driving. The beta program previously was open to about 2,000 drivers.\n",
    "\"\"\""
   ]
  },
  {
   "cell_type": "code",
   "execution_count": null,
   "id": "6f802a7f-b45a-4ba1-b341-e9dd6e35252d",
   "metadata": {},
   "outputs": [],
   "source": [
    "classes = ['technology', 'finance', 'sports', 'business']"
   ]
  },
  {
   "cell_type": "code",
   "execution_count": null,
   "id": "6d898353-38c3-4a6d-81c0-6f4c2446fba1",
   "metadata": {},
   "outputs": [],
   "source": [
    "output = classifier.predict(text, classes)\n",
    "print('Predictions', output)"
   ]
  },
  {
   "cell_type": "markdown",
   "id": "cd9e9fc7-5ad7-4619-a90b-141c79412818",
   "metadata": {},
   "source": [
    "### 1. Initialize Hub API Project\n",
    "Open a terminal and run the following command,\n",
    "```\n",
    "hub init zero-shot\n",
    "```"
   ]
  },
  {
   "cell_type": "markdown",
   "id": "8f3b48bc-194c-4893-8a8e-5684317d0c27",
   "metadata": {},
   "source": [
    "### 2. Integration\n",
    "\n",
    "#### i. Copy the files from `model_files/` to `zero-shot/model/` folder in Hub API project\n",
    "\n",
    "#### ii. Replace the `zero-shot/src/main.py` code with this,\n",
    "```python\n",
    "import json\n",
    "import os\n",
    "# Add your own import statements\n",
    "from inference import ZeroShotClassifier\n",
    "\n",
    "# This environment variable gives you the\n",
    "# path to the directory of your model. You \n",
    "# can use this in your code to load model \n",
    "# and other large files\n",
    "MODEL_DIR = os.getenv(\"MODEL_DIR\")\n",
    "classifier = ZeroShotClassifier(MODEL_DIR)\n",
    "\n",
    "def handler(event, context):\n",
    "    '''The main function which gets triggered on an API call for an AI model'''\n",
    "    # ==================== DO NOT EDIT ====================\n",
    "    if json.loads(event['inputs']).upper().strip == 'LOAD':\n",
    "        return {\n",
    "            'statusCode': 200,\n",
    "            'body': json.dumps(\"PING RESPONSE\")\n",
    "        }\n",
    "    # =====================================================\n",
    "    # ++++++++ ADD YOUR INFERENCE CODE HERE ++++++++\n",
    "\n",
    "    # Access your json encoded string input\n",
    "    inputs = json.loads(event['inputs'])\n",
    "    print('Inputs:', inputs)\n",
    "\n",
    "    # Predict function of your model on the input\n",
    "    output = classifier.predict(inputs['text'], inputs['classes'])\n",
    "    print('Predictions:', output)\n",
    "   \n",
    "    return {\n",
    "        'statusCode': 200,\n",
    "        'body': json.dumps(output)\n",
    "    }\n",
    "\n",
    "```\n",
    "\n",
    "#### iii. Add the libraries in `zero-shot/src/requirements.txt`\n",
    "```\n",
    "torch\n",
    "transformers\n",
    "```"
   ]
  },
  {
   "cell_type": "markdown",
   "id": "d7455a57-74e0-4b7d-b47f-882fdac36fe8",
   "metadata": {},
   "source": [
    "### 3. Build and Deploy\n",
    "\n",
    "Change directory into the `zero-shot` project folder in the terminal and then run the following commands,\n",
    "```bash\n",
    "hub build\n",
    "hub deploy\n",
    "```"
   ]
  },
  {
   "cell_type": "markdown",
   "id": "76c5187e-65d2-43af-a73e-55cd48d34071",
   "metadata": {},
   "source": [
    "### Test the Deployed API"
   ]
  },
  {
   "cell_type": "code",
   "execution_count": null,
   "id": "af12b76b-0f5e-4f1b-a527-3ffb868c2bc1",
   "metadata": {},
   "outputs": [],
   "source": [
    "import os\n",
    "import json\n",
    "import requests\n",
    "import base64\n",
    "\n",
    "# This URL is a universal API Endpoint for HubAPI. \n",
    "HubAPI_URL = \"https://api.cellstrathub.com/synchronous\"\n",
    "\n",
    "# Paste your API KEY here\n",
    "API_KEY = \"YOUR API KEY\"\n",
    "\n",
    "headers = {\n",
    "  \"x-api-key\": API_KEY,\n",
    "  \"Content-Type\": \"application/json\"\n",
    "}"
   ]
  },
  {
   "cell_type": "code",
   "execution_count": null,
   "id": "5874ae47-0f8a-489d-97be-ed89ed2e090a",
   "metadata": {},
   "outputs": [],
   "source": [
    "%%time\n",
    "payload = {\n",
    "  \"service_id\": \"zero-shot\", # The name of the Hub API Project\n",
    "  \"input\": json.dumps({\n",
    "      'text': text,\n",
    "      'classes': classes\n",
    "  }) # the json-encoded input\n",
    "}\n",
    "\n",
    "# Send the POST request\n",
    "response = requests.post(HubAPI_URL, headers=headers, data=json.dumps(payload)).json()\n",
    "\n",
    "if response.get('statusCode') == 200:\n",
    "    # Parse the output\n",
    "    body = json.loads(response['body'])\n",
    "    print('Predictions:', json.loads(body['output']))\n",
    "else:\n",
    "    print(response)"
   ]
  },
  {
   "cell_type": "code",
   "execution_count": null,
   "id": "66027ed5-1794-425a-80c0-bcc83b85693a",
   "metadata": {},
   "outputs": [],
   "source": []
  }
 ],
 "metadata": {
  "kernelspec": {
   "display_name": "PyTorch 1.9",
   "language": "python",
   "name": "pytorch"
  },
  "language_info": {
   "codemirror_mode": {
    "name": "ipython",
    "version": 3
   },
   "file_extension": ".py",
   "mimetype": "text/x-python",
   "name": "python",
   "nbconvert_exporter": "python",
   "pygments_lexer": "ipython3",
   "version": "3.8.8"
  }
 },
 "nbformat": 4,
 "nbformat_minor": 5
}
